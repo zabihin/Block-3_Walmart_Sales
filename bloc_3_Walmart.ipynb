{
  "cells": [
    {
      "cell_type": "markdown",
      "metadata": {
        "id": "view-in-github",
        "colab_type": "text"
      },
      "source": [
        "<a href=\"https://colab.research.google.com/github/zabihin/Walmart/blob/main/bloc_3_Walmart.ipynb\" target=\"_parent\"><img src=\"https://colab.research.google.com/assets/colab-badge.svg\" alt=\"Open In Colab\"/></a>"
      ]
    },
    {
      "cell_type": "markdown",
      "source": [
        "![download.jpg](data:image/jpeg;base64,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)"
      ],
      "metadata": {
        "id": "awppnNFUPris"
      },
      "id": "awppnNFUPris"
    },
    {
      "cell_type": "markdown",
      "source": [
        "PROJECTS Supervised Machine Learning"
      ],
      "metadata": {
        "id": "fjzI-hq_Qj2p"
      },
      "id": "fjzI-hq_Qj2p"
    },
    {
      "cell_type": "markdown",
      "source": [
        "Walmart : **predict weekly sales**\n",
        "Company's Description 📇\n",
        "Walmart Inc. is an American multinational retail corporation that operates a chain of hypermarkets, discount department stores, and grocery stores from the United States, headquartered in Bentonville, Arkansas. The company was founded by Sam Walton in 1962.\n",
        "\n",
        "Project 🚧\n",
        "Walmart's marketing service has asked you **to build a machine learning model able to estimate the weekly sales in their stores**, with the best precision possible on the predictions made. Such a model would help them understand better **how the sales are influenced by economic indicators**, and might be used to plan future marketing campaigns.\n",
        "\n",
        "Goals 🎯\n",
        "The project can be divided into three steps:\n",
        "\n",
        "**Part 1 : make an EDA and all the necessary preprocessings to prepare data for machine learning**\n",
        "\n",
        "**Part 2 : train a linear regression model (baseline)**\n",
        "\n",
        "**Part 3: avoid overfitting by training a regularized regression model Scope of this project** 🖼️\n"
      ],
      "metadata": {
        "id": "LxQSgIdMQuhf"
      },
      "id": "LxQSgIdMQuhf"
    },
    {
      "cell_type": "markdown",
      "id": "ddde5837-860f-4528-944c-e9a833494d79",
      "metadata": {
        "id": "ddde5837-860f-4528-944c-e9a833494d79"
      },
      "source": [
        " Import Libraries"
      ]
    },
    {
      "cell_type": "code",
      "execution_count": 36,
      "id": "a229aa28-18cf-43d1-a7db-6182e5ca6ce2",
      "metadata": {
        "id": "a229aa28-18cf-43d1-a7db-6182e5ca6ce2"
      },
      "outputs": [],
      "source": [
        "import pandas as pd\n",
        "import sklearn\n",
        "\n",
        "import numpy as np\n",
        "from sklearn.model_selection import train_test_split\n",
        "from sklearn.pipeline import Pipeline\n",
        "from sklearn.impute import SimpleImputer\n",
        "from sklearn.preprocessing import  OneHotEncoder, StandardScaler, LabelEncoder\n",
        "from sklearn.compose import ColumnTransformer\n",
        "from sklearn.linear_model import LogisticRegression ,Ridge,Lasso\n",
        "from sklearn.metrics import accuracy_score\n",
        "import warnings\n",
        "warnings.filterwarnings(\"ignore\", category=DeprecationWarning) # to avoid deprecation warnings"
      ]
    },
    {
      "cell_type": "markdown",
      "id": "47852883-a404-43c1-b5f3-4e22ce2254d9",
      "metadata": {
        "id": "47852883-a404-43c1-b5f3-4e22ce2254d9"
      },
      "source": [
        "Load Data"
      ]
    },
    {
      "cell_type": "code",
      "execution_count": 2,
      "id": "6935db0c-9e71-4b6b-8712-763fc22f8123",
      "metadata": {
        "colab": {
          "base_uri": "https://localhost:8080/"
        },
        "id": "6935db0c-9e71-4b6b-8712-763fc22f8123",
        "outputId": "5323f29d-fdc1-413f-fc04-e661a4d1e617"
      },
      "outputs": [
        {
          "output_type": "stream",
          "name": "stdout",
          "text": [
            "Loading dataset...\n",
            "...Done.\n",
            "\n"
          ]
        }
      ],
      "source": [
        "# Import dataset\n",
        "print(\"Loading dataset...\")\n",
        "dataset = pd.read_csv(\"/content/drive/MyDrive/Colab Notebooks/Walmart_Store_sales.csv\")\n",
        "print(\"...Done.\")\n",
        "print()"
      ]
    },
    {
      "cell_type": "markdown",
      "id": "d373dcce-c653-48e5-9ce1-c7f6b8cf9eb3",
      "metadata": {
        "id": "d373dcce-c653-48e5-9ce1-c7f6b8cf9eb3"
      },
      "source": [
        "### Part 1 : make an EDA and all the necessary preprocessings to prepare data for machine learning"
      ]
    },
    {
      "cell_type": "markdown",
      "id": "c822dc5c-333d-4195-a713-827c85a4656d",
      "metadata": {
        "id": "c822dc5c-333d-4195-a713-827c85a4656d"
      },
      "source": [
        "###  Dataset Info"
      ]
    },
    {
      "cell_type": "code",
      "execution_count": 3,
      "id": "0364de16-acaf-4bc1-8088-747b1ce4d438",
      "metadata": {
        "colab": {
          "base_uri": "https://localhost:8080/"
        },
        "id": "0364de16-acaf-4bc1-8088-747b1ce4d438",
        "outputId": "f6682dfb-0f12-4e87-cd43-79ec1f020abc"
      },
      "outputs": [
        {
          "output_type": "execute_result",
          "data": {
            "text/plain": [
              "(150, 8)"
            ]
          },
          "metadata": {},
          "execution_count": 3
        }
      ],
      "source": [
        "\n",
        "dataset.shape"
      ]
    },
    {
      "cell_type": "markdown",
      "source": [
        "there are 150 rows so we don't have a lot of data"
      ],
      "metadata": {
        "id": "7quNFjdz4-v3"
      },
      "id": "7quNFjdz4-v3"
    },
    {
      "cell_type": "code",
      "execution_count": 4,
      "id": "d9e096a9-ac39-40c0-bcd4-bcafdb4583d9",
      "metadata": {
        "colab": {
          "base_uri": "https://localhost:8080/",
          "height": 826
        },
        "id": "d9e096a9-ac39-40c0-bcd4-bcafdb4583d9",
        "outputId": "f8c35355-8350-4233-9e1d-b4d26ced3d90"
      },
      "outputs": [
        {
          "output_type": "stream",
          "name": "stdout",
          "text": [
            "Display of dataset: \n"
          ]
        },
        {
          "output_type": "display_data",
          "data": {
            "text/plain": [
              "   Store        Date  Weekly_Sales  Holiday_Flag  Temperature  Fuel_Price  \\\n",
              "0    6.0  18-02-2011    1572117.54           NaN        59.61       3.045   \n",
              "1   13.0  25-03-2011    1807545.43           0.0        42.38       3.435   \n",
              "2   17.0  27-07-2012           NaN           0.0          NaN         NaN   \n",
              "3   11.0         NaN    1244390.03           0.0        84.57         NaN   \n",
              "4    6.0  28-05-2010    1644470.66           0.0        78.89       2.759   \n",
              "\n",
              "          CPI  Unemployment  \n",
              "0  214.777523         6.858  \n",
              "1  128.616064         7.470  \n",
              "2  130.719581         5.936  \n",
              "3  214.556497         7.346  \n",
              "4  212.412888         7.092  "
            ],
            "text/html": [
              "\n",
              "  <div id=\"df-7eafe27b-e71e-4149-819a-b210da11af2f\">\n",
              "    <div class=\"colab-df-container\">\n",
              "      <div>\n",
              "<style scoped>\n",
              "    .dataframe tbody tr th:only-of-type {\n",
              "        vertical-align: middle;\n",
              "    }\n",
              "\n",
              "    .dataframe tbody tr th {\n",
              "        vertical-align: top;\n",
              "    }\n",
              "\n",
              "    .dataframe thead th {\n",
              "        text-align: right;\n",
              "    }\n",
              "</style>\n",
              "<table border=\"1\" class=\"dataframe\">\n",
              "  <thead>\n",
              "    <tr style=\"text-align: right;\">\n",
              "      <th></th>\n",
              "      <th>Store</th>\n",
              "      <th>Date</th>\n",
              "      <th>Weekly_Sales</th>\n",
              "      <th>Holiday_Flag</th>\n",
              "      <th>Temperature</th>\n",
              "      <th>Fuel_Price</th>\n",
              "      <th>CPI</th>\n",
              "      <th>Unemployment</th>\n",
              "    </tr>\n",
              "  </thead>\n",
              "  <tbody>\n",
              "    <tr>\n",
              "      <th>0</th>\n",
              "      <td>6.0</td>\n",
              "      <td>18-02-2011</td>\n",
              "      <td>1572117.54</td>\n",
              "      <td>NaN</td>\n",
              "      <td>59.61</td>\n",
              "      <td>3.045</td>\n",
              "      <td>214.777523</td>\n",
              "      <td>6.858</td>\n",
              "    </tr>\n",
              "    <tr>\n",
              "      <th>1</th>\n",
              "      <td>13.0</td>\n",
              "      <td>25-03-2011</td>\n",
              "      <td>1807545.43</td>\n",
              "      <td>0.0</td>\n",
              "      <td>42.38</td>\n",
              "      <td>3.435</td>\n",
              "      <td>128.616064</td>\n",
              "      <td>7.470</td>\n",
              "    </tr>\n",
              "    <tr>\n",
              "      <th>2</th>\n",
              "      <td>17.0</td>\n",
              "      <td>27-07-2012</td>\n",
              "      <td>NaN</td>\n",
              "      <td>0.0</td>\n",
              "      <td>NaN</td>\n",
              "      <td>NaN</td>\n",
              "      <td>130.719581</td>\n",
              "      <td>5.936</td>\n",
              "    </tr>\n",
              "    <tr>\n",
              "      <th>3</th>\n",
              "      <td>11.0</td>\n",
              "      <td>NaN</td>\n",
              "      <td>1244390.03</td>\n",
              "      <td>0.0</td>\n",
              "      <td>84.57</td>\n",
              "      <td>NaN</td>\n",
              "      <td>214.556497</td>\n",
              "      <td>7.346</td>\n",
              "    </tr>\n",
              "    <tr>\n",
              "      <th>4</th>\n",
              "      <td>6.0</td>\n",
              "      <td>28-05-2010</td>\n",
              "      <td>1644470.66</td>\n",
              "      <td>0.0</td>\n",
              "      <td>78.89</td>\n",
              "      <td>2.759</td>\n",
              "      <td>212.412888</td>\n",
              "      <td>7.092</td>\n",
              "    </tr>\n",
              "  </tbody>\n",
              "</table>\n",
              "</div>\n",
              "      <button class=\"colab-df-convert\" onclick=\"convertToInteractive('df-7eafe27b-e71e-4149-819a-b210da11af2f')\"\n",
              "              title=\"Convert this dataframe to an interactive table.\"\n",
              "              style=\"display:none;\">\n",
              "        \n",
              "  <svg xmlns=\"http://www.w3.org/2000/svg\" height=\"24px\"viewBox=\"0 0 24 24\"\n",
              "       width=\"24px\">\n",
              "    <path d=\"M0 0h24v24H0V0z\" fill=\"none\"/>\n",
              "    <path d=\"M18.56 5.44l.94 2.06.94-2.06 2.06-.94-2.06-.94-.94-2.06-.94 2.06-2.06.94zm-11 1L8.5 8.5l.94-2.06 2.06-.94-2.06-.94L8.5 2.5l-.94 2.06-2.06.94zm10 10l.94 2.06.94-2.06 2.06-.94-2.06-.94-.94-2.06-.94 2.06-2.06.94z\"/><path d=\"M17.41 7.96l-1.37-1.37c-.4-.4-.92-.59-1.43-.59-.52 0-1.04.2-1.43.59L10.3 9.45l-7.72 7.72c-.78.78-.78 2.05 0 2.83L4 21.41c.39.39.9.59 1.41.59.51 0 1.02-.2 1.41-.59l7.78-7.78 2.81-2.81c.8-.78.8-2.07 0-2.86zM5.41 20L4 18.59l7.72-7.72 1.47 1.35L5.41 20z\"/>\n",
              "  </svg>\n",
              "      </button>\n",
              "      \n",
              "  <style>\n",
              "    .colab-df-container {\n",
              "      display:flex;\n",
              "      flex-wrap:wrap;\n",
              "      gap: 12px;\n",
              "    }\n",
              "\n",
              "    .colab-df-convert {\n",
              "      background-color: #E8F0FE;\n",
              "      border: none;\n",
              "      border-radius: 50%;\n",
              "      cursor: pointer;\n",
              "      display: none;\n",
              "      fill: #1967D2;\n",
              "      height: 32px;\n",
              "      padding: 0 0 0 0;\n",
              "      width: 32px;\n",
              "    }\n",
              "\n",
              "    .colab-df-convert:hover {\n",
              "      background-color: #E2EBFA;\n",
              "      box-shadow: 0px 1px 2px rgba(60, 64, 67, 0.3), 0px 1px 3px 1px rgba(60, 64, 67, 0.15);\n",
              "      fill: #174EA6;\n",
              "    }\n",
              "\n",
              "    [theme=dark] .colab-df-convert {\n",
              "      background-color: #3B4455;\n",
              "      fill: #D2E3FC;\n",
              "    }\n",
              "\n",
              "    [theme=dark] .colab-df-convert:hover {\n",
              "      background-color: #434B5C;\n",
              "      box-shadow: 0px 1px 3px 1px rgba(0, 0, 0, 0.15);\n",
              "      filter: drop-shadow(0px 1px 2px rgba(0, 0, 0, 0.3));\n",
              "      fill: #FFFFFF;\n",
              "    }\n",
              "  </style>\n",
              "\n",
              "      <script>\n",
              "        const buttonEl =\n",
              "          document.querySelector('#df-7eafe27b-e71e-4149-819a-b210da11af2f button.colab-df-convert');\n",
              "        buttonEl.style.display =\n",
              "          google.colab.kernel.accessAllowed ? 'block' : 'none';\n",
              "\n",
              "        async function convertToInteractive(key) {\n",
              "          const element = document.querySelector('#df-7eafe27b-e71e-4149-819a-b210da11af2f');\n",
              "          const dataTable =\n",
              "            await google.colab.kernel.invokeFunction('convertToInteractive',\n",
              "                                                     [key], {});\n",
              "          if (!dataTable) return;\n",
              "\n",
              "          const docLinkHtml = 'Like what you see? Visit the ' +\n",
              "            '<a target=\"_blank\" href=https://colab.research.google.com/notebooks/data_table.ipynb>data table notebook</a>'\n",
              "            + ' to learn more about interactive tables.';\n",
              "          element.innerHTML = '';\n",
              "          dataTable['output_type'] = 'display_data';\n",
              "          await google.colab.output.renderOutput(dataTable, element);\n",
              "          const docLink = document.createElement('div');\n",
              "          docLink.innerHTML = docLinkHtml;\n",
              "          element.appendChild(docLink);\n",
              "        }\n",
              "      </script>\n",
              "    </div>\n",
              "  </div>\n",
              "  "
            ]
          },
          "metadata": {}
        },
        {
          "output_type": "stream",
          "name": "stdout",
          "text": [
            "\n",
            "Basics statistics: \n"
          ]
        },
        {
          "output_type": "display_data",
          "data": {
            "text/plain": [
              "             Store        Date  Weekly_Sales  Holiday_Flag  Temperature  \\\n",
              "count   150.000000         132  1.360000e+02    138.000000   132.000000   \n",
              "unique         NaN          85           NaN           NaN          NaN   \n",
              "top            NaN  19-10-2012           NaN           NaN          NaN   \n",
              "freq           NaN           4           NaN           NaN          NaN   \n",
              "mean      9.866667         NaN  1.249536e+06      0.079710    61.398106   \n",
              "std       6.231191         NaN  6.474630e+05      0.271831    18.378901   \n",
              "min       1.000000         NaN  2.689290e+05      0.000000    18.790000   \n",
              "25%       4.000000         NaN  6.050757e+05      0.000000    45.587500   \n",
              "50%       9.000000         NaN  1.261424e+06      0.000000    62.985000   \n",
              "75%      15.750000         NaN  1.806386e+06      0.000000    76.345000   \n",
              "max      20.000000         NaN  2.771397e+06      1.000000    91.650000   \n",
              "\n",
              "        Fuel_Price         CPI  Unemployment  \n",
              "count   136.000000  138.000000    135.000000  \n",
              "unique         NaN         NaN           NaN  \n",
              "top            NaN         NaN           NaN  \n",
              "freq           NaN         NaN           NaN  \n",
              "mean      3.320853  179.898509      7.598430  \n",
              "std       0.478149   40.274956      1.577173  \n",
              "min       2.514000  126.111903      5.143000  \n",
              "25%       2.852250  131.970831      6.597500  \n",
              "50%       3.451000  197.908893      7.470000  \n",
              "75%       3.706250  214.934616      8.150000  \n",
              "max       4.193000  226.968844     14.313000  "
            ],
            "text/html": [
              "\n",
              "  <div id=\"df-70bee3bc-6770-48d2-9714-954d69942ba5\">\n",
              "    <div class=\"colab-df-container\">\n",
              "      <div>\n",
              "<style scoped>\n",
              "    .dataframe tbody tr th:only-of-type {\n",
              "        vertical-align: middle;\n",
              "    }\n",
              "\n",
              "    .dataframe tbody tr th {\n",
              "        vertical-align: top;\n",
              "    }\n",
              "\n",
              "    .dataframe thead th {\n",
              "        text-align: right;\n",
              "    }\n",
              "</style>\n",
              "<table border=\"1\" class=\"dataframe\">\n",
              "  <thead>\n",
              "    <tr style=\"text-align: right;\">\n",
              "      <th></th>\n",
              "      <th>Store</th>\n",
              "      <th>Date</th>\n",
              "      <th>Weekly_Sales</th>\n",
              "      <th>Holiday_Flag</th>\n",
              "      <th>Temperature</th>\n",
              "      <th>Fuel_Price</th>\n",
              "      <th>CPI</th>\n",
              "      <th>Unemployment</th>\n",
              "    </tr>\n",
              "  </thead>\n",
              "  <tbody>\n",
              "    <tr>\n",
              "      <th>count</th>\n",
              "      <td>150.000000</td>\n",
              "      <td>132</td>\n",
              "      <td>1.360000e+02</td>\n",
              "      <td>138.000000</td>\n",
              "      <td>132.000000</td>\n",
              "      <td>136.000000</td>\n",
              "      <td>138.000000</td>\n",
              "      <td>135.000000</td>\n",
              "    </tr>\n",
              "    <tr>\n",
              "      <th>unique</th>\n",
              "      <td>NaN</td>\n",
              "      <td>85</td>\n",
              "      <td>NaN</td>\n",
              "      <td>NaN</td>\n",
              "      <td>NaN</td>\n",
              "      <td>NaN</td>\n",
              "      <td>NaN</td>\n",
              "      <td>NaN</td>\n",
              "    </tr>\n",
              "    <tr>\n",
              "      <th>top</th>\n",
              "      <td>NaN</td>\n",
              "      <td>19-10-2012</td>\n",
              "      <td>NaN</td>\n",
              "      <td>NaN</td>\n",
              "      <td>NaN</td>\n",
              "      <td>NaN</td>\n",
              "      <td>NaN</td>\n",
              "      <td>NaN</td>\n",
              "    </tr>\n",
              "    <tr>\n",
              "      <th>freq</th>\n",
              "      <td>NaN</td>\n",
              "      <td>4</td>\n",
              "      <td>NaN</td>\n",
              "      <td>NaN</td>\n",
              "      <td>NaN</td>\n",
              "      <td>NaN</td>\n",
              "      <td>NaN</td>\n",
              "      <td>NaN</td>\n",
              "    </tr>\n",
              "    <tr>\n",
              "      <th>mean</th>\n",
              "      <td>9.866667</td>\n",
              "      <td>NaN</td>\n",
              "      <td>1.249536e+06</td>\n",
              "      <td>0.079710</td>\n",
              "      <td>61.398106</td>\n",
              "      <td>3.320853</td>\n",
              "      <td>179.898509</td>\n",
              "      <td>7.598430</td>\n",
              "    </tr>\n",
              "    <tr>\n",
              "      <th>std</th>\n",
              "      <td>6.231191</td>\n",
              "      <td>NaN</td>\n",
              "      <td>6.474630e+05</td>\n",
              "      <td>0.271831</td>\n",
              "      <td>18.378901</td>\n",
              "      <td>0.478149</td>\n",
              "      <td>40.274956</td>\n",
              "      <td>1.577173</td>\n",
              "    </tr>\n",
              "    <tr>\n",
              "      <th>min</th>\n",
              "      <td>1.000000</td>\n",
              "      <td>NaN</td>\n",
              "      <td>2.689290e+05</td>\n",
              "      <td>0.000000</td>\n",
              "      <td>18.790000</td>\n",
              "      <td>2.514000</td>\n",
              "      <td>126.111903</td>\n",
              "      <td>5.143000</td>\n",
              "    </tr>\n",
              "    <tr>\n",
              "      <th>25%</th>\n",
              "      <td>4.000000</td>\n",
              "      <td>NaN</td>\n",
              "      <td>6.050757e+05</td>\n",
              "      <td>0.000000</td>\n",
              "      <td>45.587500</td>\n",
              "      <td>2.852250</td>\n",
              "      <td>131.970831</td>\n",
              "      <td>6.597500</td>\n",
              "    </tr>\n",
              "    <tr>\n",
              "      <th>50%</th>\n",
              "      <td>9.000000</td>\n",
              "      <td>NaN</td>\n",
              "      <td>1.261424e+06</td>\n",
              "      <td>0.000000</td>\n",
              "      <td>62.985000</td>\n",
              "      <td>3.451000</td>\n",
              "      <td>197.908893</td>\n",
              "      <td>7.470000</td>\n",
              "    </tr>\n",
              "    <tr>\n",
              "      <th>75%</th>\n",
              "      <td>15.750000</td>\n",
              "      <td>NaN</td>\n",
              "      <td>1.806386e+06</td>\n",
              "      <td>0.000000</td>\n",
              "      <td>76.345000</td>\n",
              "      <td>3.706250</td>\n",
              "      <td>214.934616</td>\n",
              "      <td>8.150000</td>\n",
              "    </tr>\n",
              "    <tr>\n",
              "      <th>max</th>\n",
              "      <td>20.000000</td>\n",
              "      <td>NaN</td>\n",
              "      <td>2.771397e+06</td>\n",
              "      <td>1.000000</td>\n",
              "      <td>91.650000</td>\n",
              "      <td>4.193000</td>\n",
              "      <td>226.968844</td>\n",
              "      <td>14.313000</td>\n",
              "    </tr>\n",
              "  </tbody>\n",
              "</table>\n",
              "</div>\n",
              "      <button class=\"colab-df-convert\" onclick=\"convertToInteractive('df-70bee3bc-6770-48d2-9714-954d69942ba5')\"\n",
              "              title=\"Convert this dataframe to an interactive table.\"\n",
              "              style=\"display:none;\">\n",
              "        \n",
              "  <svg xmlns=\"http://www.w3.org/2000/svg\" height=\"24px\"viewBox=\"0 0 24 24\"\n",
              "       width=\"24px\">\n",
              "    <path d=\"M0 0h24v24H0V0z\" fill=\"none\"/>\n",
              "    <path d=\"M18.56 5.44l.94 2.06.94-2.06 2.06-.94-2.06-.94-.94-2.06-.94 2.06-2.06.94zm-11 1L8.5 8.5l.94-2.06 2.06-.94-2.06-.94L8.5 2.5l-.94 2.06-2.06.94zm10 10l.94 2.06.94-2.06 2.06-.94-2.06-.94-.94-2.06-.94 2.06-2.06.94z\"/><path d=\"M17.41 7.96l-1.37-1.37c-.4-.4-.92-.59-1.43-.59-.52 0-1.04.2-1.43.59L10.3 9.45l-7.72 7.72c-.78.78-.78 2.05 0 2.83L4 21.41c.39.39.9.59 1.41.59.51 0 1.02-.2 1.41-.59l7.78-7.78 2.81-2.81c.8-.78.8-2.07 0-2.86zM5.41 20L4 18.59l7.72-7.72 1.47 1.35L5.41 20z\"/>\n",
              "  </svg>\n",
              "      </button>\n",
              "      \n",
              "  <style>\n",
              "    .colab-df-container {\n",
              "      display:flex;\n",
              "      flex-wrap:wrap;\n",
              "      gap: 12px;\n",
              "    }\n",
              "\n",
              "    .colab-df-convert {\n",
              "      background-color: #E8F0FE;\n",
              "      border: none;\n",
              "      border-radius: 50%;\n",
              "      cursor: pointer;\n",
              "      display: none;\n",
              "      fill: #1967D2;\n",
              "      height: 32px;\n",
              "      padding: 0 0 0 0;\n",
              "      width: 32px;\n",
              "    }\n",
              "\n",
              "    .colab-df-convert:hover {\n",
              "      background-color: #E2EBFA;\n",
              "      box-shadow: 0px 1px 2px rgba(60, 64, 67, 0.3), 0px 1px 3px 1px rgba(60, 64, 67, 0.15);\n",
              "      fill: #174EA6;\n",
              "    }\n",
              "\n",
              "    [theme=dark] .colab-df-convert {\n",
              "      background-color: #3B4455;\n",
              "      fill: #D2E3FC;\n",
              "    }\n",
              "\n",
              "    [theme=dark] .colab-df-convert:hover {\n",
              "      background-color: #434B5C;\n",
              "      box-shadow: 0px 1px 3px 1px rgba(0, 0, 0, 0.15);\n",
              "      filter: drop-shadow(0px 1px 2px rgba(0, 0, 0, 0.3));\n",
              "      fill: #FFFFFF;\n",
              "    }\n",
              "  </style>\n",
              "\n",
              "      <script>\n",
              "        const buttonEl =\n",
              "          document.querySelector('#df-70bee3bc-6770-48d2-9714-954d69942ba5 button.colab-df-convert');\n",
              "        buttonEl.style.display =\n",
              "          google.colab.kernel.accessAllowed ? 'block' : 'none';\n",
              "\n",
              "        async function convertToInteractive(key) {\n",
              "          const element = document.querySelector('#df-70bee3bc-6770-48d2-9714-954d69942ba5');\n",
              "          const dataTable =\n",
              "            await google.colab.kernel.invokeFunction('convertToInteractive',\n",
              "                                                     [key], {});\n",
              "          if (!dataTable) return;\n",
              "\n",
              "          const docLinkHtml = 'Like what you see? Visit the ' +\n",
              "            '<a target=\"_blank\" href=https://colab.research.google.com/notebooks/data_table.ipynb>data table notebook</a>'\n",
              "            + ' to learn more about interactive tables.';\n",
              "          element.innerHTML = '';\n",
              "          dataTable['output_type'] = 'display_data';\n",
              "          await google.colab.output.renderOutput(dataTable, element);\n",
              "          const docLink = document.createElement('div');\n",
              "          docLink.innerHTML = docLinkHtml;\n",
              "          element.appendChild(docLink);\n",
              "        }\n",
              "      </script>\n",
              "    </div>\n",
              "  </div>\n",
              "  "
            ]
          },
          "metadata": {}
        },
        {
          "output_type": "stream",
          "name": "stdout",
          "text": [
            "\n",
            "Percentage of missing values: \n"
          ]
        },
        {
          "output_type": "display_data",
          "data": {
            "text/plain": [
              "Store            0.000000\n",
              "Date            12.000000\n",
              "Weekly_Sales     9.333333\n",
              "Holiday_Flag     8.000000\n",
              "Temperature     12.000000\n",
              "Fuel_Price       9.333333\n",
              "CPI              8.000000\n",
              "Unemployment    10.000000\n",
              "dtype: float64"
            ]
          },
          "metadata": {}
        }
      ],
      "source": [
        "print(\"Display of dataset: \")\n",
        "display(dataset.head())\n",
        "print()\n",
        "\n",
        "print(\"Basics statistics: \")\n",
        "data_desc = dataset.describe(include='all')\n",
        "display(data_desc)\n",
        "print()\n",
        "\n",
        "print(\"Percentage of missing values: \")\n",
        "display(100*dataset.isnull().sum()/dataset.shape[0])"
      ]
    },
    {
      "cell_type": "markdown",
      "source": [
        "No feature has too many missing values 🤠\n",
        "\n",
        "\n"
      ],
      "metadata": {
        "id": "WoUuZGoR5XX2"
      },
      "id": "WoUuZGoR5XX2"
    },
    {
      "cell_type": "markdown",
      "id": "9ea1a267-197d-4cd8-a02f-8cfb3137dfeb",
      "metadata": {
        "id": "9ea1a267-197d-4cd8-a02f-8cfb3137dfeb"
      },
      "source": [
        "but Weekley_Sales are our target and we should drop lines where target values are missing"
      ]
    },
    {
      "cell_type": "code",
      "execution_count": 5,
      "id": "9cf13c8c-4cd8-4aa5-b5e7-aa2604fa64b7",
      "metadata": {
        "id": "9cf13c8c-4cd8-4aa5-b5e7-aa2604fa64b7"
      },
      "outputs": [],
      "source": [
        "dataset = dataset.dropna(axis=0, subset=['Weekly_Sales'])"
      ]
    },
    {
      "cell_type": "code",
      "execution_count": 6,
      "id": "0527ce86-42c7-4a58-8bf6-30e5d51b7b8c",
      "metadata": {
        "colab": {
          "base_uri": "https://localhost:8080/",
          "height": 603
        },
        "id": "0527ce86-42c7-4a58-8bf6-30e5d51b7b8c",
        "outputId": "541923be-81d7-45c3-9dce-4d61f939b380"
      },
      "outputs": [
        {
          "output_type": "stream",
          "name": "stdout",
          "text": [
            "Basics statistics: \n"
          ]
        },
        {
          "output_type": "display_data",
          "data": {
            "text/plain": [
              "             Store        Date  Weekly_Sales  Holiday_Flag  Temperature  \\\n",
              "count   136.000000         118  1.360000e+02    125.000000   121.000000   \n",
              "unique         NaN          79           NaN           NaN          NaN   \n",
              "top            NaN  19-10-2012           NaN           NaN          NaN   \n",
              "freq           NaN           3           NaN           NaN          NaN   \n",
              "mean     10.014706         NaN  1.249536e+06      0.072000    60.853967   \n",
              "std       6.124614         NaN  6.474630e+05      0.259528    18.514432   \n",
              "min       1.000000         NaN  2.689290e+05      0.000000    18.790000   \n",
              "25%       4.000000         NaN  6.050757e+05      0.000000    45.220000   \n",
              "50%      10.000000         NaN  1.261424e+06      0.000000    62.250000   \n",
              "75%      15.250000         NaN  1.806386e+06      0.000000    75.950000   \n",
              "max      20.000000         NaN  2.771397e+06      1.000000    91.650000   \n",
              "\n",
              "        Fuel_Price         CPI  Unemployment  \n",
              "count   124.000000  125.000000    122.000000  \n",
              "unique         NaN         NaN           NaN  \n",
              "top            NaN         NaN           NaN  \n",
              "freq           NaN         NaN           NaN  \n",
              "mean      3.316992  178.091144      7.665582  \n",
              "std       0.479540   40.243105      1.619428  \n",
              "min       2.514000  126.111903      5.143000  \n",
              "25%       2.838500  131.637000      6.690000  \n",
              "50%       3.451000  196.919506      7.477000  \n",
              "75%       3.724000  214.878556      8.150000  \n",
              "max       4.193000  226.968844     14.313000  "
            ],
            "text/html": [
              "\n",
              "  <div id=\"df-c34f16ee-4af5-4940-bf61-e6d3f9cc27e9\">\n",
              "    <div class=\"colab-df-container\">\n",
              "      <div>\n",
              "<style scoped>\n",
              "    .dataframe tbody tr th:only-of-type {\n",
              "        vertical-align: middle;\n",
              "    }\n",
              "\n",
              "    .dataframe tbody tr th {\n",
              "        vertical-align: top;\n",
              "    }\n",
              "\n",
              "    .dataframe thead th {\n",
              "        text-align: right;\n",
              "    }\n",
              "</style>\n",
              "<table border=\"1\" class=\"dataframe\">\n",
              "  <thead>\n",
              "    <tr style=\"text-align: right;\">\n",
              "      <th></th>\n",
              "      <th>Store</th>\n",
              "      <th>Date</th>\n",
              "      <th>Weekly_Sales</th>\n",
              "      <th>Holiday_Flag</th>\n",
              "      <th>Temperature</th>\n",
              "      <th>Fuel_Price</th>\n",
              "      <th>CPI</th>\n",
              "      <th>Unemployment</th>\n",
              "    </tr>\n",
              "  </thead>\n",
              "  <tbody>\n",
              "    <tr>\n",
              "      <th>count</th>\n",
              "      <td>136.000000</td>\n",
              "      <td>118</td>\n",
              "      <td>1.360000e+02</td>\n",
              "      <td>125.000000</td>\n",
              "      <td>121.000000</td>\n",
              "      <td>124.000000</td>\n",
              "      <td>125.000000</td>\n",
              "      <td>122.000000</td>\n",
              "    </tr>\n",
              "    <tr>\n",
              "      <th>unique</th>\n",
              "      <td>NaN</td>\n",
              "      <td>79</td>\n",
              "      <td>NaN</td>\n",
              "      <td>NaN</td>\n",
              "      <td>NaN</td>\n",
              "      <td>NaN</td>\n",
              "      <td>NaN</td>\n",
              "      <td>NaN</td>\n",
              "    </tr>\n",
              "    <tr>\n",
              "      <th>top</th>\n",
              "      <td>NaN</td>\n",
              "      <td>19-10-2012</td>\n",
              "      <td>NaN</td>\n",
              "      <td>NaN</td>\n",
              "      <td>NaN</td>\n",
              "      <td>NaN</td>\n",
              "      <td>NaN</td>\n",
              "      <td>NaN</td>\n",
              "    </tr>\n",
              "    <tr>\n",
              "      <th>freq</th>\n",
              "      <td>NaN</td>\n",
              "      <td>3</td>\n",
              "      <td>NaN</td>\n",
              "      <td>NaN</td>\n",
              "      <td>NaN</td>\n",
              "      <td>NaN</td>\n",
              "      <td>NaN</td>\n",
              "      <td>NaN</td>\n",
              "    </tr>\n",
              "    <tr>\n",
              "      <th>mean</th>\n",
              "      <td>10.014706</td>\n",
              "      <td>NaN</td>\n",
              "      <td>1.249536e+06</td>\n",
              "      <td>0.072000</td>\n",
              "      <td>60.853967</td>\n",
              "      <td>3.316992</td>\n",
              "      <td>178.091144</td>\n",
              "      <td>7.665582</td>\n",
              "    </tr>\n",
              "    <tr>\n",
              "      <th>std</th>\n",
              "      <td>6.124614</td>\n",
              "      <td>NaN</td>\n",
              "      <td>6.474630e+05</td>\n",
              "      <td>0.259528</td>\n",
              "      <td>18.514432</td>\n",
              "      <td>0.479540</td>\n",
              "      <td>40.243105</td>\n",
              "      <td>1.619428</td>\n",
              "    </tr>\n",
              "    <tr>\n",
              "      <th>min</th>\n",
              "      <td>1.000000</td>\n",
              "      <td>NaN</td>\n",
              "      <td>2.689290e+05</td>\n",
              "      <td>0.000000</td>\n",
              "      <td>18.790000</td>\n",
              "      <td>2.514000</td>\n",
              "      <td>126.111903</td>\n",
              "      <td>5.143000</td>\n",
              "    </tr>\n",
              "    <tr>\n",
              "      <th>25%</th>\n",
              "      <td>4.000000</td>\n",
              "      <td>NaN</td>\n",
              "      <td>6.050757e+05</td>\n",
              "      <td>0.000000</td>\n",
              "      <td>45.220000</td>\n",
              "      <td>2.838500</td>\n",
              "      <td>131.637000</td>\n",
              "      <td>6.690000</td>\n",
              "    </tr>\n",
              "    <tr>\n",
              "      <th>50%</th>\n",
              "      <td>10.000000</td>\n",
              "      <td>NaN</td>\n",
              "      <td>1.261424e+06</td>\n",
              "      <td>0.000000</td>\n",
              "      <td>62.250000</td>\n",
              "      <td>3.451000</td>\n",
              "      <td>196.919506</td>\n",
              "      <td>7.477000</td>\n",
              "    </tr>\n",
              "    <tr>\n",
              "      <th>75%</th>\n",
              "      <td>15.250000</td>\n",
              "      <td>NaN</td>\n",
              "      <td>1.806386e+06</td>\n",
              "      <td>0.000000</td>\n",
              "      <td>75.950000</td>\n",
              "      <td>3.724000</td>\n",
              "      <td>214.878556</td>\n",
              "      <td>8.150000</td>\n",
              "    </tr>\n",
              "    <tr>\n",
              "      <th>max</th>\n",
              "      <td>20.000000</td>\n",
              "      <td>NaN</td>\n",
              "      <td>2.771397e+06</td>\n",
              "      <td>1.000000</td>\n",
              "      <td>91.650000</td>\n",
              "      <td>4.193000</td>\n",
              "      <td>226.968844</td>\n",
              "      <td>14.313000</td>\n",
              "    </tr>\n",
              "  </tbody>\n",
              "</table>\n",
              "</div>\n",
              "      <button class=\"colab-df-convert\" onclick=\"convertToInteractive('df-c34f16ee-4af5-4940-bf61-e6d3f9cc27e9')\"\n",
              "              title=\"Convert this dataframe to an interactive table.\"\n",
              "              style=\"display:none;\">\n",
              "        \n",
              "  <svg xmlns=\"http://www.w3.org/2000/svg\" height=\"24px\"viewBox=\"0 0 24 24\"\n",
              "       width=\"24px\">\n",
              "    <path d=\"M0 0h24v24H0V0z\" fill=\"none\"/>\n",
              "    <path d=\"M18.56 5.44l.94 2.06.94-2.06 2.06-.94-2.06-.94-.94-2.06-.94 2.06-2.06.94zm-11 1L8.5 8.5l.94-2.06 2.06-.94-2.06-.94L8.5 2.5l-.94 2.06-2.06.94zm10 10l.94 2.06.94-2.06 2.06-.94-2.06-.94-.94-2.06-.94 2.06-2.06.94z\"/><path d=\"M17.41 7.96l-1.37-1.37c-.4-.4-.92-.59-1.43-.59-.52 0-1.04.2-1.43.59L10.3 9.45l-7.72 7.72c-.78.78-.78 2.05 0 2.83L4 21.41c.39.39.9.59 1.41.59.51 0 1.02-.2 1.41-.59l7.78-7.78 2.81-2.81c.8-.78.8-2.07 0-2.86zM5.41 20L4 18.59l7.72-7.72 1.47 1.35L5.41 20z\"/>\n",
              "  </svg>\n",
              "      </button>\n",
              "      \n",
              "  <style>\n",
              "    .colab-df-container {\n",
              "      display:flex;\n",
              "      flex-wrap:wrap;\n",
              "      gap: 12px;\n",
              "    }\n",
              "\n",
              "    .colab-df-convert {\n",
              "      background-color: #E8F0FE;\n",
              "      border: none;\n",
              "      border-radius: 50%;\n",
              "      cursor: pointer;\n",
              "      display: none;\n",
              "      fill: #1967D2;\n",
              "      height: 32px;\n",
              "      padding: 0 0 0 0;\n",
              "      width: 32px;\n",
              "    }\n",
              "\n",
              "    .colab-df-convert:hover {\n",
              "      background-color: #E2EBFA;\n",
              "      box-shadow: 0px 1px 2px rgba(60, 64, 67, 0.3), 0px 1px 3px 1px rgba(60, 64, 67, 0.15);\n",
              "      fill: #174EA6;\n",
              "    }\n",
              "\n",
              "    [theme=dark] .colab-df-convert {\n",
              "      background-color: #3B4455;\n",
              "      fill: #D2E3FC;\n",
              "    }\n",
              "\n",
              "    [theme=dark] .colab-df-convert:hover {\n",
              "      background-color: #434B5C;\n",
              "      box-shadow: 0px 1px 3px 1px rgba(0, 0, 0, 0.15);\n",
              "      filter: drop-shadow(0px 1px 2px rgba(0, 0, 0, 0.3));\n",
              "      fill: #FFFFFF;\n",
              "    }\n",
              "  </style>\n",
              "\n",
              "      <script>\n",
              "        const buttonEl =\n",
              "          document.querySelector('#df-c34f16ee-4af5-4940-bf61-e6d3f9cc27e9 button.colab-df-convert');\n",
              "        buttonEl.style.display =\n",
              "          google.colab.kernel.accessAllowed ? 'block' : 'none';\n",
              "\n",
              "        async function convertToInteractive(key) {\n",
              "          const element = document.querySelector('#df-c34f16ee-4af5-4940-bf61-e6d3f9cc27e9');\n",
              "          const dataTable =\n",
              "            await google.colab.kernel.invokeFunction('convertToInteractive',\n",
              "                                                     [key], {});\n",
              "          if (!dataTable) return;\n",
              "\n",
              "          const docLinkHtml = 'Like what you see? Visit the ' +\n",
              "            '<a target=\"_blank\" href=https://colab.research.google.com/notebooks/data_table.ipynb>data table notebook</a>'\n",
              "            + ' to learn more about interactive tables.';\n",
              "          element.innerHTML = '';\n",
              "          dataTable['output_type'] = 'display_data';\n",
              "          await google.colab.output.renderOutput(dataTable, element);\n",
              "          const docLink = document.createElement('div');\n",
              "          docLink.innerHTML = docLinkHtml;\n",
              "          element.appendChild(docLink);\n",
              "        }\n",
              "      </script>\n",
              "    </div>\n",
              "  </div>\n",
              "  "
            ]
          },
          "metadata": {}
        },
        {
          "output_type": "stream",
          "name": "stdout",
          "text": [
            "\n",
            "Percentage of missing values: \n"
          ]
        },
        {
          "output_type": "display_data",
          "data": {
            "text/plain": [
              "Store            0.000000\n",
              "Date            13.235294\n",
              "Weekly_Sales     0.000000\n",
              "Holiday_Flag     8.088235\n",
              "Temperature     11.029412\n",
              "Fuel_Price       8.823529\n",
              "CPI              8.088235\n",
              "Unemployment    10.294118\n",
              "dtype: float64"
            ]
          },
          "metadata": {}
        }
      ],
      "source": [
        "print(\"Basics statistics: \")\n",
        "data_desc = dataset.describe(include='all')\n",
        "display(data_desc)\n",
        "print()\n",
        "\n",
        "print(\"Percentage of missing values: \")\n",
        "display(100*dataset.isnull().sum()/dataset.shape[0])"
      ]
    },
    {
      "cell_type": "markdown",
      "source": [
        "extract the week of the year from the date time column\n",
        "\n"
      ],
      "metadata": {
        "id": "9mguWnt_6bXT"
      },
      "id": "9mguWnt_6bXT"
    },
    {
      "cell_type": "code",
      "execution_count": 7,
      "id": "83eb4e31-25a1-4358-90f2-a97450124f52",
      "metadata": {
        "colab": {
          "base_uri": "https://localhost:8080/"
        },
        "id": "83eb4e31-25a1-4358-90f2-a97450124f52",
        "outputId": "ab63a8e1-641f-4d3d-becc-1007c3a8fe6f"
      },
      "outputs": [
        {
          "output_type": "stream",
          "name": "stderr",
          "text": [
            "/usr/local/lib/python3.7/dist-packages/ipykernel_launcher.py:1: SettingWithCopyWarning: \n",
            "A value is trying to be set on a copy of a slice from a DataFrame.\n",
            "Try using .loc[row_indexer,col_indexer] = value instead\n",
            "\n",
            "See the caveats in the documentation: https://pandas.pydata.org/pandas-docs/stable/user_guide/indexing.html#returning-a-view-versus-a-copy\n",
            "  \"\"\"Entry point for launching an IPython kernel.\n",
            "/usr/local/lib/python3.7/dist-packages/ipykernel_launcher.py:2: FutureWarning: Series.dt.weekofyear and Series.dt.week have been deprecated.  Please use Series.dt.isocalendar().week instead.\n",
            "  \n",
            "/usr/local/lib/python3.7/dist-packages/ipykernel_launcher.py:2: SettingWithCopyWarning: \n",
            "A value is trying to be set on a copy of a slice from a DataFrame.\n",
            "Try using .loc[row_indexer,col_indexer] = value instead\n",
            "\n",
            "See the caveats in the documentation: https://pandas.pydata.org/pandas-docs/stable/user_guide/indexing.html#returning-a-view-versus-a-copy\n",
            "  \n"
          ]
        }
      ],
      "source": [
        "dataset['Date']=pd.to_datetime(dataset['Date'], errors='ignore');\n",
        "dataset['weekofyear'] = dataset['Date'].dt.weekofyear\n"
      ]
    },
    {
      "cell_type": "code",
      "execution_count": 8,
      "id": "4a7959c5-546e-4ab5-8d77-b72f6dfd94ae",
      "metadata": {
        "colab": {
          "base_uri": "https://localhost:8080/"
        },
        "id": "4a7959c5-546e-4ab5-8d77-b72f6dfd94ae",
        "outputId": "bb8d0ce2-1403-4e84-ae17-178164bbee5a"
      },
      "outputs": [
        {
          "output_type": "execute_result",
          "data": {
            "text/plain": [
              "0"
            ]
          },
          "metadata": {},
          "execution_count": 8
        }
      ],
      "source": [
        "dataset.duplicated().sum()\n"
      ]
    },
    {
      "cell_type": "code",
      "source": [
        "dataset.shape"
      ],
      "metadata": {
        "colab": {
          "base_uri": "https://localhost:8080/"
        },
        "id": "-FGDHiPsCejh",
        "outputId": "6e7e9c18-5ce6-4f5c-a109-dec1b4d6a546"
      },
      "id": "-FGDHiPsCejh",
      "execution_count": 9,
      "outputs": [
        {
          "output_type": "execute_result",
          "data": {
            "text/plain": [
              "(136, 9)"
            ]
          },
          "metadata": {},
          "execution_count": 9
        }
      ]
    },
    {
      "cell_type": "markdown",
      "metadata": {
        "id": "I2Wvc7IH-p7S"
      },
      "source": [
        "## Drop lines containing invalid values or outliers "
      ],
      "id": "I2Wvc7IH-p7S"
    },
    {
      "cell_type": "markdown",
      "metadata": {
        "id": "jaez2Pif-p7u"
      },
      "source": [
        " In this project, will be considered as outliers all the numeric features that don't fall within the range :  [𝑋¯−3𝜎,𝑋¯+3𝜎] . This concerns the columns : Temperature, Fuel_price, CPI and Unemployment"
      ],
      "id": "jaez2Pif-p7u"
    },
    {
      "cell_type": "code",
      "execution_count": 10,
      "metadata": {
        "outputId": "0670276c-dfee-43a5-8194-5c1d9300631f",
        "colab": {
          "base_uri": "https://localhost:8080/"
        },
        "id": "TrT_QiFP-p7w"
      },
      "outputs": [
        {
          "output_type": "stream",
          "name": "stdout",
          "text": [
            "Dropping outliers in Temperature ...\n",
            "The number of outliers in Temperature is 0\n",
            "Dropping outliers in Fuel_price ...\n",
            "The number of outliers in Fuel_Price is 0\n",
            "Dropping outliers in CPI ...\n",
            "The number of outliers in CPI is 0\n",
            "Dropping outliers in Unemployment ...\n",
            "The number of outliers in Unemployment is 5\n"
          ]
        }
      ],
      "source": [
        "print('Dropping outliers in Temperature ...')\n",
        "low =  dataset['Temperature'].mean() - 3 *  dataset['Temperature'].std()\n",
        "high =  dataset['Temperature'].mean() + 3 *  dataset['Temperature'].std()\n",
        "print('The number of outliers in {} is {}'.format('Temperature', dataset.loc[(dataset['Temperature'] <= low) | (dataset['Temperature'] >= high)].shape[0]))\n",
        "\n",
        "\n",
        "print('Dropping outliers in Fuel_price ...')\n",
        "low =  dataset['Fuel_Price'].mean() - 3 *  dataset['Fuel_Price'].std()\n",
        "high =  dataset['Fuel_Price'].mean() + 3 *  dataset['Fuel_Price'].std()\n",
        "print('The number of outliers in {} is {}'.format('Fuel_Price', dataset.loc[(dataset['Fuel_Price'] <= low) | (dataset['Fuel_Price'] >= high)].shape[0]))\n",
        "\n",
        "\n",
        "print('Dropping outliers in CPI ...')\n",
        "low =  dataset['CPI'].mean() - 3 *  dataset['CPI'].std()\n",
        "high =  dataset['CPI'].mean() + 3 *  dataset['CPI'].std()\n",
        "print('The number of outliers in {} is {}'.format('CPI', dataset.loc[(dataset['CPI'] <= low) | (dataset['CPI'] >= high)].shape[0]))\n",
        "\n",
        "\n",
        "\n",
        "print('Dropping outliers in Unemployment ...')\n",
        "low =  dataset['Unemployment'].mean() - 3 *  dataset['Unemployment'].std()\n",
        "high =  dataset['Unemployment'].mean() + 3 *  dataset['Unemployment'].std()\n",
        "print('The number of outliers in {} is {}'.format('Unemployment', dataset.loc[(dataset['Unemployment'] <= low) | (dataset['Unemployment'] >= high)].shape[0]))\n",
        "\n"
      ],
      "id": "TrT_QiFP-p7w"
    },
    {
      "cell_type": "code",
      "source": [
        "low =  dataset['Unemployment'].mean() - 3 *  dataset['Unemployment'].std()\n",
        "high =  dataset['Unemployment'].mean() + 3 *  dataset['Unemployment'].std()\n",
        "dataset=dataset.drop(dataset.loc[(dataset['Unemployment'] <= low) | (dataset['Unemployment'] >= high)].index)\n",
        "dataset.shape\n"
      ],
      "metadata": {
        "colab": {
          "base_uri": "https://localhost:8080/"
        },
        "id": "4X4ILH66BBNw",
        "outputId": "b78643bd-a136-4442-b8b9-81988d3ef55a"
      },
      "id": "4X4ILH66BBNw",
      "execution_count": 11,
      "outputs": [
        {
          "output_type": "execute_result",
          "data": {
            "text/plain": [
              "(131, 9)"
            ]
          },
          "metadata": {},
          "execution_count": 11
        }
      ]
    },
    {
      "cell_type": "markdown",
      "id": "1553a527-5d2b-43a7-83db-746dfb025ece",
      "metadata": {
        "id": "1553a527-5d2b-43a7-83db-746dfb025ece"
      },
      "source": [
        "## Visualization"
      ]
    },
    {
      "cell_type": "code",
      "execution_count": 12,
      "id": "cd9b1c14-0f1d-4036-958f-3ec864fd3355",
      "metadata": {
        "id": "cd9b1c14-0f1d-4036-958f-3ec864fd3355"
      },
      "outputs": [],
      "source": [
        "import seaborn as sns\n",
        "import matplotlib.pyplot as plt"
      ]
    },
    {
      "cell_type": "code",
      "source": [
        "fig = sns.barplot(data = dataset, x = 'Store', y = 'Weekly_Sales')\n",
        "fig.set_title(\"Bar plot of stores weekly sales\")\n",
        "plt.show()"
      ],
      "metadata": {
        "colab": {
          "base_uri": "https://localhost:8080/",
          "height": 295
        },
        "id": "0huhOmz2LNEs",
        "outputId": "962ed62b-de89-4db8-c5f9-abd15e4c4170"
      },
      "id": "0huhOmz2LNEs",
      "execution_count": 13,
      "outputs": [
        {
          "output_type": "display_data",
          "data": {
            "text/plain": [
              "<Figure size 432x288 with 1 Axes>"
            ],
            "image/png": "[encoded data removed]"
          },
          "metadata": {
            "needs_background": "light"
          }
        }
      ]
    },
    {
      "cell_type": "code",
      "execution_count": 14,
      "id": "548f4af0-7709-4ffe-b63b-9cfdb9a9116b",
      "metadata": {
        "colab": {
          "base_uri": "https://localhost:8080/",
          "height": 445
        },
        "id": "548f4af0-7709-4ffe-b63b-9cfdb9a9116b",
        "outputId": "71934a6e-118e-43cd-c5c2-fc3745f11124"
      },
      "outputs": [
        {
          "output_type": "display_data",
          "data": {
            "text/plain": [
              "<Figure size 720x432 with 2 Axes>"
            ],
            "image/png": "[encoded data removed]"
          },
          "metadata": {
            "needs_background": "light"
          }
        }
      ],
      "source": [
        "#heatmap\n",
        "plt.figure(figsize=(10,6))\n",
        "sns.heatmap(dataset.corr(),cmap='RdYlBu',annot=True)\n",
        "plt.show()"
      ]
    },
    {
      "cell_type": "markdown",
      "source": [
        "cpi has the highest negative correlation with weekly_sale\n",
        "\n",
        "unemployment has the highest positive correlation=> because walmart is a low cost store."
      ],
      "metadata": {
        "id": "6GfI0kQVQyLn"
      },
      "id": "6GfI0kQVQyLn"
    },
    {
      "cell_type": "markdown",
      "id": "8e2e061a-655e-4db9-9d1e-4423cf06a6c0",
      "metadata": {
        "id": "8e2e061a-655e-4db9-9d1e-4423cf06a6c0"
      },
      "source": [
        "##Preprossesing"
      ]
    },
    {
      "cell_type": "code",
      "execution_count": 15,
      "id": "6412f111-a571-42d3-b32f-42e3a95080e9",
      "metadata": {
        "id": "6412f111-a571-42d3-b32f-42e3a95080e9"
      },
      "outputs": [],
      "source": [
        "to_drop = ['Date', 'Weekly_Sales']\n",
        "features = [c for c in dataset.columns if c not in to_drop]\n",
        "target_name = 'Weekly_Sales'\n",
        "\n",
        "X = dataset.loc[:, features]\n",
        "Y = dataset.loc[:,target_name]\n"
      ]
    },
    {
      "cell_type": "code",
      "execution_count": 16,
      "id": "d03c7705-94a8-49a8-bb95-541bcb663438",
      "metadata": {
        "colab": {
          "base_uri": "https://localhost:8080/"
        },
        "id": "d03c7705-94a8-49a8-bb95-541bcb663438",
        "outputId": "ad1c3234-df45-40f2-8eee-e1be33589b36"
      },
      "outputs": [
        {
          "output_type": "stream",
          "name": "stdout",
          "text": [
            "Dividing into train and test sets...\n",
            "...Done.\n",
            "\n"
          ]
        }
      ],
      "source": [
        "# Divide dataset Train set & Test set \n",
        "print(\"Dividing into train and test sets...\")\n",
        "# WARNING : don't forget stratify=Y for classification problems\n",
        "X_train, X_test, Y_train, Y_test = train_test_split(X, Y, test_size=0.2, random_state=0)\n",
        "print(\"...Done.\")\n",
        "print()"
      ]
    },
    {
      "cell_type": "code",
      "execution_count": 17,
      "id": "3866b57f-acb9-43a0-b817-c0dc98acc82a",
      "metadata": {
        "colab": {
          "base_uri": "https://localhost:8080/"
        },
        "id": "3866b57f-acb9-43a0-b817-c0dc98acc82a",
        "outputId": "15852268-1098-49cd-b7ea-83a20dc1b614"
      },
      "outputs": [
        {
          "output_type": "stream",
          "name": "stdout",
          "text": [
            "...Done\n",
            "...Done\n"
          ]
        }
      ],
      "source": [
        "numeric_indices =[2,3,4,5,6]\n",
        "categorical_indices = [0,1]\n",
        "\n",
        "# numeric transformation \n",
        "numeric_transformer = Pipeline(\n",
        "    steps=[\n",
        "        (\"num_imputer\", SimpleImputer(strategy=\"mean\")),\n",
        "        (\"num_scaler\", StandardScaler())\n",
        "    ]\n",
        ")\n",
        "\n",
        "# catogerical\n",
        "categorical_transformer = Pipeline(\n",
        "    steps=[\n",
        "    ('imputer', SimpleImputer(strategy='most_frequent')), # missing values will be replaced by most frequent value\n",
        "    ('encoder', OneHotEncoder(drop='first')) # first column will be dropped to avoid creating correlations between features\n",
        "    ])\n",
        "\n",
        "\n",
        "preprocessor = ColumnTransformer(\n",
        "    transformers=[\n",
        "        ('cat', categorical_transformer, categorical_indices),    \n",
        "        ('num', numeric_transformer, numeric_indices)\n",
        "        ]\n",
        "    )\n",
        "\n",
        "X_train = preprocessor.fit_transform(X_train)\n",
        "print(\"...Done\")\n",
        "\n",
        "\n",
        "\n",
        "\n",
        "X_test = preprocessor.transform(X_test)\n",
        "print(\"...Done\")\n",
        "\n",
        "\n"
      ]
    },
    {
      "cell_type": "code",
      "source": [
        "cat_feat_names = list(preprocessor.transformers_[0][1].named_steps['encoder'].get_feature_names(['Store', 'Holiday_Flag']))\n"
      ],
      "metadata": {
        "id": "0VzuM9Nqf0eM",
        "colab": {
          "base_uri": "https://localhost:8080/"
        },
        "outputId": "93593882-f7b0-45d1-aef7-06d1d5636d2d"
      },
      "id": "0VzuM9Nqf0eM",
      "execution_count": 18,
      "outputs": [
        {
          "output_type": "stream",
          "name": "stderr",
          "text": [
            "/usr/local/lib/python3.7/dist-packages/sklearn/utils/deprecation.py:87: FutureWarning: Function get_feature_names is deprecated; get_feature_names is deprecated in 1.0 and will be removed in 1.2. Please use get_feature_names_out instead.\n",
            "  warnings.warn(msg, category=FutureWarning)\n"
          ]
        }
      ]
    },
    {
      "cell_type": "code",
      "source": [
        "feature_name=cat_feat_names+['Temperature','Fuel_Price','CPI','Unemployment','weekofyear']"
      ],
      "metadata": {
        "id": "Op_wMz4Kh6iJ"
      },
      "id": "Op_wMz4Kh6iJ",
      "execution_count": 19,
      "outputs": []
    },
    {
      "cell_type": "markdown",
      "id": "790cf24e-0035-4d90-bd3e-5a722262e7bd",
      "metadata": {
        "id": "790cf24e-0035-4d90-bd3e-5a722262e7bd"
      },
      "source": [
        "# Part 2 : linear regression to predict weekly_sales ,Baseline model"
      ]
    },
    {
      "cell_type": "code",
      "execution_count": 20,
      "id": "ed5867d9-d2b0-4f29-bb48-67e91e1b8591",
      "metadata": {
        "id": "ed5867d9-d2b0-4f29-bb48-67e91e1b8591"
      },
      "outputs": [],
      "source": [
        "from sklearn.linear_model import LinearRegression\n",
        "from sklearn.model_selection import  GridSearchCV, cross_val_score\n"
      ]
    },
    {
      "cell_type": "code",
      "execution_count": 21,
      "id": "f264efa4-ecee-4bbb-bf5f-46cfaa0f8313",
      "metadata": {
        "colab": {
          "base_uri": "https://localhost:8080/"
        },
        "id": "f264efa4-ecee-4bbb-bf5f-46cfaa0f8313",
        "outputId": "ce846fba-0c38-426b-af37-e5752ed41d2c"
      },
      "outputs": [
        {
          "output_type": "stream",
          "name": "stdout",
          "text": [
            "The cross-validated R2-score is :  0.938062876673653\n",
            "The standard deviation is :  0.019148356803327323\n",
            "\n"
          ]
        }
      ],
      "source": [
        "# Train model\n",
        "\n",
        "#Perform cross validation on the train set\n",
        "reg = LinearRegression()\n",
        "scores = cross_val_score(reg, X_train, Y_train, cv=5)\n",
        "print('The cross-validated R2-score is : ', scores.mean())\n",
        "print('The standard deviation is : ', scores.std())\n",
        "print()\n"
      ]
    },
    {
      "cell_type": "code",
      "source": [
        "# train the linear regression model\n",
        "print(\"Training model\")\n",
        "reg.fit(X_train, Y_train)\n",
        "print('...Done')\n",
        "print()"
      ],
      "metadata": {
        "colab": {
          "base_uri": "https://localhost:8080/"
        },
        "id": "rez0SnR9WFOs",
        "outputId": "05fd2ad4-46ad-46e1-e8c6-f22428916722"
      },
      "id": "rez0SnR9WFOs",
      "execution_count": 22,
      "outputs": [
        {
          "output_type": "stream",
          "name": "stdout",
          "text": [
            "Training model\n",
            "...Done\n",
            "\n"
          ]
        }
      ]
    },
    {
      "cell_type": "code",
      "execution_count": 23,
      "id": "a28ce09b-b7b9-429c-94f7-093cca504dcb",
      "metadata": {
        "colab": {
          "base_uri": "https://localhost:8080/"
        },
        "id": "a28ce09b-b7b9-429c-94f7-093cca504dcb",
        "outputId": "dbfbbdcb-f84c-4eca-d2f4-131634ee5cf9"
      },
      "outputs": [
        {
          "output_type": "stream",
          "name": "stdout",
          "text": [
            "Predictions on training set...\n",
            "...Done.\n"
          ]
        }
      ],
      "source": [
        "# Predictions on training set\n",
        "print(\"Predictions on training set...\")\n",
        "Y_train_pred = reg.predict(X_train)\n",
        "print(\"...Done.\")\n"
      ]
    },
    {
      "cell_type": "code",
      "execution_count": 24,
      "id": "8a79e30a-bd80-438e-8537-c9a467ba4eed",
      "metadata": {
        "id": "8a79e30a-bd80-438e-8537-c9a467ba4eed"
      },
      "outputs": [],
      "source": [
        "Y_test_pred = reg.predict(X_test)\n"
      ]
    },
    {
      "cell_type": "code",
      "source": [
        "from sklearn.metrics import r2_score\n"
      ],
      "metadata": {
        "id": "SlRlR_ZcdGiI"
      },
      "id": "SlRlR_ZcdGiI",
      "execution_count": 25,
      "outputs": []
    },
    {
      "cell_type": "code",
      "execution_count": 26,
      "id": "c73c9cc1-66df-4f84-a390-1a4bdf1f34ca",
      "metadata": {
        "colab": {
          "base_uri": "https://localhost:8080/"
        },
        "id": "c73c9cc1-66df-4f84-a390-1a4bdf1f34ca",
        "outputId": "dbc20490-7796-4cf6-ccda-87f3d587b22b"
      },
      "outputs": [
        {
          "output_type": "stream",
          "name": "stdout",
          "text": [
            "R2 score on train set:  0.9656339534500529\n",
            "\n",
            "R2 score on test set:  0.9362803273132703\n"
          ]
        }
      ],
      "source": [
        "# make predictions and print r-2 score on the train set\n",
        "\n",
        "print(\"R2 score on train set: \", r2_score(Y_train, Y_train_pred))\n",
        "print()\n",
        "\n",
        "# make predictions and print r-2 score on the test set\n",
        "\n",
        "print(\"R2 score on test set: \", r2_score(Y_test, Y_test_pred))\n",
        "\n",
        "\n"
      ]
    },
    {
      "cell_type": "code",
      "source": [
        "cat_feat_names = list(preprocessor.transformers_[0][1].named_steps['encoder'].get_feature_names(['Store', 'Holiday_Flag']))\n"
      ],
      "metadata": {
        "colab": {
          "base_uri": "https://localhost:8080/"
        },
        "outputId": "0af45abe-04e8-4eaa-93a0-b3af8fd710a7",
        "id": "Kfcfo8TGcfTI"
      },
      "execution_count": 27,
      "outputs": [
        {
          "output_type": "stream",
          "name": "stderr",
          "text": [
            "/usr/local/lib/python3.7/dist-packages/sklearn/utils/deprecation.py:87: FutureWarning: Function get_feature_names is deprecated; get_feature_names is deprecated in 1.0 and will be removed in 1.2. Please use get_feature_names_out instead.\n",
            "  warnings.warn(msg, category=FutureWarning)\n"
          ]
        }
      ],
      "id": "Kfcfo8TGcfTI"
    },
    {
      "cell_type": "code",
      "source": [
        "feature_name=cat_feat_names+['Temperature','Fuel_Price','CPI','Unemployment','weekofyear']"
      ],
      "metadata": {
        "id": "hEnQLRUgcfTL"
      },
      "execution_count": 28,
      "outputs": [],
      "id": "hEnQLRUgcfTL"
    },
    {
      "cell_type": "code",
      "source": [
        "# print the coefficients for each feature\n",
        "data = {'coefficients' : reg.coef_, 'abs_coeff': abs(reg.coef_)}\n",
        "df_coef = pd.DataFrame(data = data, index = feature_name)\n",
        "df_coef = df_coef.sort_values(by = 'abs_coeff', ascending = False)\n",
        "df_coef"
      ],
      "metadata": {
        "colab": {
          "base_uri": "https://localhost:8080/",
          "height": 802
        },
        "id": "CZf5QkRGiFzV",
        "outputId": "4a6bc07b-3d42-4373-a930-7ada99cb4c45"
      },
      "id": "CZf5QkRGiFzV",
      "execution_count": 29,
      "outputs": [
        {
          "output_type": "execute_result",
          "data": {
            "text/plain": [
              "                  coefficients     abs_coeff\n",
              "Store_5.0        -1.365591e+06  1.365591e+06\n",
              "Store_9.0        -1.223603e+06  1.223603e+06\n",
              "Store_3.0        -1.215827e+06  1.215827e+06\n",
              "Store_16.0       -1.106561e+06  1.106561e+06\n",
              "Store_7.0        -9.092703e+05  9.092703e+05\n",
              "Store_8.0        -7.780083e+05  7.780083e+05\n",
              "Store_15.0       -7.079402e+05  7.079402e+05\n",
              "Store_14.0        6.627086e+05  6.627086e+05\n",
              "Store_17.0       -6.423066e+05  6.423066e+05\n",
              "Store_4.0         6.079860e+05  6.079860e+05\n",
              "Store_10.0        5.943764e+05  5.943764e+05\n",
              "Store_13.0        5.372740e+05  5.372740e+05\n",
              "Store_20.0        3.918193e+05  3.918193e+05\n",
              "Store_2.0         3.819010e+05  3.819010e+05\n",
              "Store_18.0       -2.092593e+05  2.092593e+05\n",
              "Unemployment     -7.819918e+04  7.819918e+04\n",
              "Holiday_Flag_1.0 -6.559207e+04  6.559207e+04\n",
              "CPI               5.372633e+04  5.372633e+04\n",
              "Store_6.0        -5.346462e+04  5.346462e+04\n",
              "Store_11.0        4.977704e+04  4.977704e+04\n",
              "Fuel_Price       -4.973089e+04  4.973089e+04\n",
              "weekofyear        4.201801e+04  4.201801e+04\n",
              "Temperature      -2.756311e+04  2.756311e+04\n",
              "Store_19.0        1.883177e+04  1.883177e+04"
            ],
            "text/html": [
              "\n",
              "  <div id=\"df-9478f56e-bce4-4045-b015-e6abf90ff7ab\">\n",
              "    <div class=\"colab-df-container\">\n",
              "      <div>\n",
              "<style scoped>\n",
              "    .dataframe tbody tr th:only-of-type {\n",
              "        vertical-align: middle;\n",
              "    }\n",
              "\n",
              "    .dataframe tbody tr th {\n",
              "        vertical-align: top;\n",
              "    }\n",
              "\n",
              "    .dataframe thead th {\n",
              "        text-align: right;\n",
              "    }\n",
              "</style>\n",
              "<table border=\"1\" class=\"dataframe\">\n",
              "  <thead>\n",
              "    <tr style=\"text-align: right;\">\n",
              "      <th></th>\n",
              "      <th>coefficients</th>\n",
              "      <th>abs_coeff</th>\n",
              "    </tr>\n",
              "  </thead>\n",
              "  <tbody>\n",
              "    <tr>\n",
              "      <th>Store_5.0</th>\n",
              "      <td>-1.365591e+06</td>\n",
              "      <td>1.365591e+06</td>\n",
              "    </tr>\n",
              "    <tr>\n",
              "      <th>Store_9.0</th>\n",
              "      <td>-1.223603e+06</td>\n",
              "      <td>1.223603e+06</td>\n",
              "    </tr>\n",
              "    <tr>\n",
              "      <th>Store_3.0</th>\n",
              "      <td>-1.215827e+06</td>\n",
              "      <td>1.215827e+06</td>\n",
              "    </tr>\n",
              "    <tr>\n",
              "      <th>Store_16.0</th>\n",
              "      <td>-1.106561e+06</td>\n",
              "      <td>1.106561e+06</td>\n",
              "    </tr>\n",
              "    <tr>\n",
              "      <th>Store_7.0</th>\n",
              "      <td>-9.092703e+05</td>\n",
              "      <td>9.092703e+05</td>\n",
              "    </tr>\n",
              "    <tr>\n",
              "      <th>Store_8.0</th>\n",
              "      <td>-7.780083e+05</td>\n",
              "      <td>7.780083e+05</td>\n",
              "    </tr>\n",
              "    <tr>\n",
              "      <th>Store_15.0</th>\n",
              "      <td>-7.079402e+05</td>\n",
              "      <td>7.079402e+05</td>\n",
              "    </tr>\n",
              "    <tr>\n",
              "      <th>Store_14.0</th>\n",
              "      <td>6.627086e+05</td>\n",
              "      <td>6.627086e+05</td>\n",
              "    </tr>\n",
              "    <tr>\n",
              "      <th>Store_17.0</th>\n",
              "      <td>-6.423066e+05</td>\n",
              "      <td>6.423066e+05</td>\n",
              "    </tr>\n",
              "    <tr>\n",
              "      <th>Store_4.0</th>\n",
              "      <td>6.079860e+05</td>\n",
              "      <td>6.079860e+05</td>\n",
              "    </tr>\n",
              "    <tr>\n",
              "      <th>Store_10.0</th>\n",
              "      <td>5.943764e+05</td>\n",
              "      <td>5.943764e+05</td>\n",
              "    </tr>\n",
              "    <tr>\n",
              "      <th>Store_13.0</th>\n",
              "      <td>5.372740e+05</td>\n",
              "      <td>5.372740e+05</td>\n",
              "    </tr>\n",
              "    <tr>\n",
              "      <th>Store_20.0</th>\n",
              "      <td>3.918193e+05</td>\n",
              "      <td>3.918193e+05</td>\n",
              "    </tr>\n",
              "    <tr>\n",
              "      <th>Store_2.0</th>\n",
              "      <td>3.819010e+05</td>\n",
              "      <td>3.819010e+05</td>\n",
              "    </tr>\n",
              "    <tr>\n",
              "      <th>Store_18.0</th>\n",
              "      <td>-2.092593e+05</td>\n",
              "      <td>2.092593e+05</td>\n",
              "    </tr>\n",
              "    <tr>\n",
              "      <th>Unemployment</th>\n",
              "      <td>-7.819918e+04</td>\n",
              "      <td>7.819918e+04</td>\n",
              "    </tr>\n",
              "    <tr>\n",
              "      <th>Holiday_Flag_1.0</th>\n",
              "      <td>-6.559207e+04</td>\n",
              "      <td>6.559207e+04</td>\n",
              "    </tr>\n",
              "    <tr>\n",
              "      <th>CPI</th>\n",
              "      <td>5.372633e+04</td>\n",
              "      <td>5.372633e+04</td>\n",
              "    </tr>\n",
              "    <tr>\n",
              "      <th>Store_6.0</th>\n",
              "      <td>-5.346462e+04</td>\n",
              "      <td>5.346462e+04</td>\n",
              "    </tr>\n",
              "    <tr>\n",
              "      <th>Store_11.0</th>\n",
              "      <td>4.977704e+04</td>\n",
              "      <td>4.977704e+04</td>\n",
              "    </tr>\n",
              "    <tr>\n",
              "      <th>Fuel_Price</th>\n",
              "      <td>-4.973089e+04</td>\n",
              "      <td>4.973089e+04</td>\n",
              "    </tr>\n",
              "    <tr>\n",
              "      <th>weekofyear</th>\n",
              "      <td>4.201801e+04</td>\n",
              "      <td>4.201801e+04</td>\n",
              "    </tr>\n",
              "    <tr>\n",
              "      <th>Temperature</th>\n",
              "      <td>-2.756311e+04</td>\n",
              "      <td>2.756311e+04</td>\n",
              "    </tr>\n",
              "    <tr>\n",
              "      <th>Store_19.0</th>\n",
              "      <td>1.883177e+04</td>\n",
              "      <td>1.883177e+04</td>\n",
              "    </tr>\n",
              "  </tbody>\n",
              "</table>\n",
              "</div>\n",
              "      <button class=\"colab-df-convert\" onclick=\"convertToInteractive('df-9478f56e-bce4-4045-b015-e6abf90ff7ab')\"\n",
              "              title=\"Convert this dataframe to an interactive table.\"\n",
              "              style=\"display:none;\">\n",
              "        \n",
              "  <svg xmlns=\"http://www.w3.org/2000/svg\" height=\"24px\"viewBox=\"0 0 24 24\"\n",
              "       width=\"24px\">\n",
              "    <path d=\"M0 0h24v24H0V0z\" fill=\"none\"/>\n",
              "    <path d=\"M18.56 5.44l.94 2.06.94-2.06 2.06-.94-2.06-.94-.94-2.06-.94 2.06-2.06.94zm-11 1L8.5 8.5l.94-2.06 2.06-.94-2.06-.94L8.5 2.5l-.94 2.06-2.06.94zm10 10l.94 2.06.94-2.06 2.06-.94-2.06-.94-.94-2.06-.94 2.06-2.06.94z\"/><path d=\"M17.41 7.96l-1.37-1.37c-.4-.4-.92-.59-1.43-.59-.52 0-1.04.2-1.43.59L10.3 9.45l-7.72 7.72c-.78.78-.78 2.05 0 2.83L4 21.41c.39.39.9.59 1.41.59.51 0 1.02-.2 1.41-.59l7.78-7.78 2.81-2.81c.8-.78.8-2.07 0-2.86zM5.41 20L4 18.59l7.72-7.72 1.47 1.35L5.41 20z\"/>\n",
              "  </svg>\n",
              "      </button>\n",
              "      \n",
              "  <style>\n",
              "    .colab-df-container {\n",
              "      display:flex;\n",
              "      flex-wrap:wrap;\n",
              "      gap: 12px;\n",
              "    }\n",
              "\n",
              "    .colab-df-convert {\n",
              "      background-color: #E8F0FE;\n",
              "      border: none;\n",
              "      border-radius: 50%;\n",
              "      cursor: pointer;\n",
              "      display: none;\n",
              "      fill: #1967D2;\n",
              "      height: 32px;\n",
              "      padding: 0 0 0 0;\n",
              "      width: 32px;\n",
              "    }\n",
              "\n",
              "    .colab-df-convert:hover {\n",
              "      background-color: #E2EBFA;\n",
              "      box-shadow: 0px 1px 2px rgba(60, 64, 67, 0.3), 0px 1px 3px 1px rgba(60, 64, 67, 0.15);\n",
              "      fill: #174EA6;\n",
              "    }\n",
              "\n",
              "    [theme=dark] .colab-df-convert {\n",
              "      background-color: #3B4455;\n",
              "      fill: #D2E3FC;\n",
              "    }\n",
              "\n",
              "    [theme=dark] .colab-df-convert:hover {\n",
              "      background-color: #434B5C;\n",
              "      box-shadow: 0px 1px 3px 1px rgba(0, 0, 0, 0.15);\n",
              "      filter: drop-shadow(0px 1px 2px rgba(0, 0, 0, 0.3));\n",
              "      fill: #FFFFFF;\n",
              "    }\n",
              "  </style>\n",
              "\n",
              "      <script>\n",
              "        const buttonEl =\n",
              "          document.querySelector('#df-9478f56e-bce4-4045-b015-e6abf90ff7ab button.colab-df-convert');\n",
              "        buttonEl.style.display =\n",
              "          google.colab.kernel.accessAllowed ? 'block' : 'none';\n",
              "\n",
              "        async function convertToInteractive(key) {\n",
              "          const element = document.querySelector('#df-9478f56e-bce4-4045-b015-e6abf90ff7ab');\n",
              "          const dataTable =\n",
              "            await google.colab.kernel.invokeFunction('convertToInteractive',\n",
              "                                                     [key], {});\n",
              "          if (!dataTable) return;\n",
              "\n",
              "          const docLinkHtml = 'Like what you see? Visit the ' +\n",
              "            '<a target=\"_blank\" href=https://colab.research.google.com/notebooks/data_table.ipynb>data table notebook</a>'\n",
              "            + ' to learn more about interactive tables.';\n",
              "          element.innerHTML = '';\n",
              "          dataTable['output_type'] = 'display_data';\n",
              "          await google.colab.output.renderOutput(dataTable, element);\n",
              "          const docLink = document.createElement('div');\n",
              "          docLink.innerHTML = docLinkHtml;\n",
              "          element.appendChild(docLink);\n",
              "        }\n",
              "      </script>\n",
              "    </div>\n",
              "  </div>\n",
              "  "
            ]
          },
          "metadata": {},
          "execution_count": 29
        }
      ]
    },
    {
      "cell_type": "markdown",
      "source": [
        "Individual stores have the highest coefficients, which doesn't really help us understand what external factors impact weekly sales\n",
        "It tells us that stores 5, 3, 9 drive the weekly sales down and we should maybe focus on how to improve that "
      ],
      "metadata": {
        "id": "Khm_RodTjJPw"
      },
      "id": "Khm_RodTjJPw"
    },
    {
      "cell_type": "markdown",
      "source": [
        "##Fight overfitting\n",
        "\n"
      ],
      "metadata": {
        "id": "QraVhFP0fOFT"
      },
      "id": "QraVhFP0fOFT"
    },
    {
      "cell_type": "code",
      "source": [
        "# Instanciating 4 models of ridge regression with different alpha values\n",
        "ridge_reg_small_alpha = Ridge(alpha = 0.01)\n",
        "ridge_reg_large_alpha = Ridge(alpha = 100)\n",
        "lasso_reg_small_alpha=Lasso(alpha = 0.01)\n",
        "lasso_reg_large_alpha=Lasso(alpha = 100)\n",
        "ridge_reg_small_alpha.fit(X_train, Y_train)\n",
        "ridge_reg_large_alpha.fit(X_train, Y_train)\n",
        "lasso_reg_small_alpha.fit(X_train, Y_train)\n",
        "lasso_reg_large_alpha.fit(X_train, Y_train)"
      ],
      "metadata": {
        "colab": {
          "base_uri": "https://localhost:8080/"
        },
        "id": "VQjEWIAHrmRH",
        "outputId": "a0ae9379-eb68-4916-d1de-cbdcfb726eb1"
      },
      "id": "VQjEWIAHrmRH",
      "execution_count": 38,
      "outputs": [
        {
          "output_type": "execute_result",
          "data": {
            "text/plain": [
              "Lasso(alpha=100)"
            ]
          },
          "metadata": {},
          "execution_count": 38
        }
      ]
    },
    {
      "cell_type": "code",
      "source": [
        "print(\"Score on training: \")\n",
        "print(\"Linear Regression score : {}\".format(reg.score(X_train, Y_train)))\n",
        "print(\"Ridge with small Alpha score : {}\".format(ridge_reg_small_alpha.score(X_train,   Y_train)))\n",
        "print(\"Ridge with large Alpha score : {}\".format(ridge_reg_large_alpha.score(X_train,Y_train)))\n",
        "print(\"Lasso with small Alpha score : {}\".format(lasso_reg_small_alpha.score(X_train,   Y_train)))\n",
        "print(\"Lasso with large Alpha score : {}\".format(lasso_reg_large_alpha.score(X_train,Y_train)))"
      ],
      "metadata": {
        "colab": {
          "base_uri": "https://localhost:8080/"
        },
        "id": "_0Jn5-rhsQwa",
        "outputId": "9c5471af-1c2f-4cd0-e3ba-36aba7dc90d9"
      },
      "id": "_0Jn5-rhsQwa",
      "execution_count": 39,
      "outputs": [
        {
          "output_type": "stream",
          "name": "stdout",
          "text": [
            "Score on training: \n",
            "Linear Regression score : 0.9656339534500529\n",
            "Ridge with small Alpha score : 0.9656154667040845\n",
            "Ridge with large Alpha score : 0.18313183327171811\n",
            "Lasso with small Alpha score : 0.9656339534498246\n",
            "Lasso with large Alpha score : 0.9656104474950913\n"
          ]
        }
      ]
    },
    {
      "cell_type": "markdown",
      "source": [],
      "metadata": {
        "id": "2Cwcp1JYtgim"
      },
      "id": "2Cwcp1JYtgim"
    },
    {
      "cell_type": "code",
      "source": [
        "params = {'alpha': np.arange(0, 1000, 100)} # determine the range of parameters to try\n",
        "lasso = Lasso() # create an instance of the model\n",
        "\n",
        "grid = GridSearchCV(lasso, params, cv = 10, verbose = 0)\n",
        "grid_fit = grid.fit(X_train, Y_train)\n",
        "\n",
        "print(\"Optimal value for alpha : \", grid_fit.best_params_)\n",
        "\n",
        "print('Train score for the best model : ', grid_fit.best_estimator_.score(X_train,Y_train))\n",
        "print('Test score for the best model : ', grid_fit.best_estimator_.score(X_test,Y_test))"
      ],
      "metadata": {
        "colab": {
          "base_uri": "https://localhost:8080/"
        },
        "id": "QZmVJXuftXyK",
        "outputId": "9de81016-7bd1-4e60-ca66-a80455b5e068"
      },
      "id": "QZmVJXuftXyK",
      "execution_count": 43,
      "outputs": [
        {
          "output_type": "stream",
          "name": "stderr",
          "text": [
            "/usr/local/lib/python3.7/dist-packages/sklearn/model_selection/_validation.py:680: UserWarning: With alpha=0, this algorithm does not converge well. You are advised to use the LinearRegression estimator\n",
            "  estimator.fit(X_train, y_train, **fit_params)\n",
            "/usr/local/lib/python3.7/dist-packages/sklearn/linear_model/_coordinate_descent.py:622: ConvergenceWarning: Objective did not converge. You might want to increase the number of iterations. Duality gap: 648711534387.435, tolerance: 4063733989.6724744\n",
            "  positive,\n",
            "/usr/local/lib/python3.7/dist-packages/sklearn/model_selection/_validation.py:680: UserWarning: With alpha=0, this algorithm does not converge well. You are advised to use the LinearRegression estimator\n",
            "  estimator.fit(X_train, y_train, **fit_params)\n",
            "/usr/local/lib/python3.7/dist-packages/sklearn/linear_model/_coordinate_descent.py:622: ConvergenceWarning: Objective did not converge. You might want to increase the number of iterations. Duality gap: 656199699959.5908, tolerance: 4011890833.538272\n",
            "  positive,\n",
            "/usr/local/lib/python3.7/dist-packages/sklearn/model_selection/_validation.py:680: UserWarning: With alpha=0, this algorithm does not converge well. You are advised to use the LinearRegression estimator\n",
            "  estimator.fit(X_train, y_train, **fit_params)\n",
            "/usr/local/lib/python3.7/dist-packages/sklearn/linear_model/_coordinate_descent.py:622: ConvergenceWarning: Objective did not converge. You might want to increase the number of iterations. Duality gap: 712949576678.1135, tolerance: 4136004866.7838244\n",
            "  positive,\n",
            "/usr/local/lib/python3.7/dist-packages/sklearn/model_selection/_validation.py:680: UserWarning: With alpha=0, this algorithm does not converge well. You are advised to use the LinearRegression estimator\n",
            "  estimator.fit(X_train, y_train, **fit_params)\n",
            "/usr/local/lib/python3.7/dist-packages/sklearn/linear_model/_coordinate_descent.py:622: ConvergenceWarning: Objective did not converge. You might want to increase the number of iterations. Duality gap: 514773186096.2235, tolerance: 3996681741.2552524\n",
            "  positive,\n",
            "/usr/local/lib/python3.7/dist-packages/sklearn/model_selection/_validation.py:680: UserWarning: With alpha=0, this algorithm does not converge well. You are advised to use the LinearRegression estimator\n",
            "  estimator.fit(X_train, y_train, **fit_params)\n",
            "/usr/local/lib/python3.7/dist-packages/sklearn/linear_model/_coordinate_descent.py:622: ConvergenceWarning: Objective did not converge. You might want to increase the number of iterations. Duality gap: 717740949095.7476, tolerance: 4111008623.7872844\n",
            "  positive,\n",
            "/usr/local/lib/python3.7/dist-packages/sklearn/model_selection/_validation.py:680: UserWarning: With alpha=0, this algorithm does not converge well. You are advised to use the LinearRegression estimator\n",
            "  estimator.fit(X_train, y_train, **fit_params)\n",
            "/usr/local/lib/python3.7/dist-packages/sklearn/linear_model/_coordinate_descent.py:622: ConvergenceWarning: Objective did not converge. You might want to increase the number of iterations. Duality gap: 726373107928.8927, tolerance: 4043807333.821148\n",
            "  positive,\n",
            "/usr/local/lib/python3.7/dist-packages/sklearn/model_selection/_validation.py:680: UserWarning: With alpha=0, this algorithm does not converge well. You are advised to use the LinearRegression estimator\n",
            "  estimator.fit(X_train, y_train, **fit_params)\n",
            "/usr/local/lib/python3.7/dist-packages/sklearn/linear_model/_coordinate_descent.py:622: ConvergenceWarning: Objective did not converge. You might want to increase the number of iterations. Duality gap: 697894994980.2129, tolerance: 4143153918.533187\n",
            "  positive,\n",
            "/usr/local/lib/python3.7/dist-packages/sklearn/model_selection/_validation.py:680: UserWarning: With alpha=0, this algorithm does not converge well. You are advised to use the LinearRegression estimator\n",
            "  estimator.fit(X_train, y_train, **fit_params)\n",
            "/usr/local/lib/python3.7/dist-packages/sklearn/linear_model/_coordinate_descent.py:622: ConvergenceWarning: Objective did not converge. You might want to increase the number of iterations. Duality gap: 745036188060.3298, tolerance: 4058371388.235384\n",
            "  positive,\n",
            "/usr/local/lib/python3.7/dist-packages/sklearn/model_selection/_validation.py:680: UserWarning: With alpha=0, this algorithm does not converge well. You are advised to use the LinearRegression estimator\n",
            "  estimator.fit(X_train, y_train, **fit_params)\n",
            "/usr/local/lib/python3.7/dist-packages/sklearn/linear_model/_coordinate_descent.py:622: ConvergenceWarning: Objective did not converge. You might want to increase the number of iterations. Duality gap: 619958858783.4493, tolerance: 3978030968.730101\n",
            "  positive,\n",
            "/usr/local/lib/python3.7/dist-packages/sklearn/model_selection/_validation.py:680: UserWarning: With alpha=0, this algorithm does not converge well. You are advised to use the LinearRegression estimator\n",
            "  estimator.fit(X_train, y_train, **fit_params)\n",
            "/usr/local/lib/python3.7/dist-packages/sklearn/linear_model/_coordinate_descent.py:622: ConvergenceWarning: Objective did not converge. You might want to increase the number of iterations. Duality gap: 748870875391.6117, tolerance: 4182644471.152925\n",
            "  positive,\n"
          ]
        },
        {
          "output_type": "stream",
          "name": "stdout",
          "text": [
            "Optimal value for alpha :  {'alpha': 400}\n",
            "Train score for the best model :  0.965295008108108\n",
            "Test score for the best model :  0.9410372628506858\n"
          ]
        }
      ]
    },
    {
      "cell_type": "code",
      "source": [],
      "metadata": {
        "id": "QFy8clt-u_Qx"
      },
      "id": "QFy8clt-u_Qx",
      "execution_count": null,
      "outputs": []
    }
  ],
  "metadata": {
    "kernelspec": {
      "display_name": "Python 3 (ipykernel)",
      "language": "python",
      "name": "python3"
    },
    "language_info": {
      "codemirror_mode": {
        "name": "ipython",
        "version": 3
      },
      "file_extension": ".py",
      "mimetype": "text/x-python",
      "name": "python",
      "nbconvert_exporter": "python",
      "pygments_lexer": "ipython3",
      "version": "3.9.7"
    },
    "colab": {
      "provenance": [],
      "collapsed_sections": [],
      "include_colab_link": true
    }
  },
  "nbformat": 4,
  "nbformat_minor": 5
}